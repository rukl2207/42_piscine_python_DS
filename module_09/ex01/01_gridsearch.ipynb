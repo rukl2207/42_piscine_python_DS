{
 "cells": [
  {
   "cell_type": "markdown",
   "metadata": {
    "id": "gJm_8nRDyUp7"
   },
   "source": [
    "# Day 09. Exercise 01\n",
    "# Gridsearch"
   ]
  },
  {
   "cell_type": "markdown",
   "metadata": {
    "id": "OLB1I9UiyUp-"
   },
   "source": [
    "## 0. Imports"
   ]
  },
  {
   "cell_type": "code",
   "execution_count": 1,
   "metadata": {
    "id": "rjrDzFRzyUp_"
   },
   "outputs": [],
   "source": [
    "import pandas as pd\n",
    "import numpy as np\n",
    "from tqdm.notebook import tqdm\n",
    "from sklearn.svm import SVC\n",
    "from sklearn.tree import DecisionTreeClassifier\n",
    "from sklearn.ensemble import RandomForestClassifier\n",
    "from sklearn.model_selection import ParameterGrid, GridSearchCV\n",
    "from sklearn.model_selection import train_test_split, cross_val_score\n",
    "from sklearn.metrics import accuracy_score"
   ]
  },
  {
   "cell_type": "markdown",
   "metadata": {
    "id": "F8zodjDJyUqA"
   },
   "source": [
    "## 1. Preprocessing"
   ]
  },
  {
   "cell_type": "markdown",
   "metadata": {
    "id": "PWR10A1TyUqA"
   },
   "source": [
    "1. Read the file [`day-of-week-not-scaled.csv`](https://drive.google.com/file/d/1AlGvsJDSzPT_70caausx8bFuupIEZkfh/view?usp=sharing). It is similar to the one from the previous exercise, but this time we did not scale continuous features (we are not going to use logreg anymore).\n",
    "2. Using `train_test_split` with parameters `test_size=0.2`, `random_state=21` get `X_train`, `y_train`, `X_test`, `y_test`. Use the additional parameter `stratify`."
   ]
  },
  {
   "cell_type": "code",
   "execution_count": 2,
   "metadata": {
    "id": "c8RWKHJbyUqA"
   },
   "outputs": [
    {
     "data": {
      "text/plain": "      numTrials  hour  dayofweek  uid_user_0  uid_user_1  uid_user_10  \\\n0             1     5          4           0           0            0   \n1             2     5          4           0           0            0   \n2             3     5          4           0           0            0   \n3             4     5          4           0           0            0   \n4             5     5          4           0           0            0   \n...         ...   ...        ...         ...         ...          ...   \n1681          9    20          3           0           0            0   \n1682          6    20          3           0           1            0   \n1683          7    20          3           0           1            0   \n1684          8    20          3           0           1            0   \n1685          9    20          3           0           1            0   \n\n      uid_user_11  uid_user_12  uid_user_13  uid_user_14  ...  labname_lab02  \\\n0               0            0            0            0  ...              0   \n1               0            0            0            0  ...              0   \n2               0            0            0            0  ...              0   \n3               0            0            0            0  ...              0   \n4               0            0            0            0  ...              0   \n...           ...          ...          ...          ...  ...            ...   \n1681            0            0            0            0  ...              0   \n1682            0            0            0            0  ...              0   \n1683            0            0            0            0  ...              0   \n1684            0            0            0            0  ...              0   \n1685            0            0            0            0  ...              0   \n\n      labname_lab03  labname_lab03s  labname_lab05s  labname_laba04  \\\n0                 0               0               0               0   \n1                 0               0               0               0   \n2                 0               0               0               0   \n3                 0               0               0               0   \n4                 0               0               0               0   \n...             ...             ...             ...             ...   \n1681              0               0               0               0   \n1682              0               0               0               0   \n1683              0               0               0               0   \n1684              0               0               0               0   \n1685              0               0               0               0   \n\n      labname_laba04s  labname_laba05  labname_laba06  labname_laba06s  \\\n0                   0               0               0                0   \n1                   0               0               0                0   \n2                   0               0               0                0   \n3                   0               0               0                0   \n4                   0               0               0                0   \n...               ...             ...             ...              ...   \n1681                0               0               0                1   \n1682                0               0               0                1   \n1683                0               0               0                1   \n1684                0               0               0                1   \n1685                0               0               0                1   \n\n      labname_project1  \n0                    1  \n1                    1  \n2                    1  \n3                    1  \n4                    1  \n...                ...  \n1681                 0  \n1682                 0  \n1683                 0  \n1684                 0  \n1685                 0  \n\n[1686 rows x 44 columns]",
      "text/html": "<div>\n<style scoped>\n    .dataframe tbody tr th:only-of-type {\n        vertical-align: middle;\n    }\n\n    .dataframe tbody tr th {\n        vertical-align: top;\n    }\n\n    .dataframe thead th {\n        text-align: right;\n    }\n</style>\n<table border=\"1\" class=\"dataframe\">\n  <thead>\n    <tr style=\"text-align: right;\">\n      <th></th>\n      <th>numTrials</th>\n      <th>hour</th>\n      <th>dayofweek</th>\n      <th>uid_user_0</th>\n      <th>uid_user_1</th>\n      <th>uid_user_10</th>\n      <th>uid_user_11</th>\n      <th>uid_user_12</th>\n      <th>uid_user_13</th>\n      <th>uid_user_14</th>\n      <th>...</th>\n      <th>labname_lab02</th>\n      <th>labname_lab03</th>\n      <th>labname_lab03s</th>\n      <th>labname_lab05s</th>\n      <th>labname_laba04</th>\n      <th>labname_laba04s</th>\n      <th>labname_laba05</th>\n      <th>labname_laba06</th>\n      <th>labname_laba06s</th>\n      <th>labname_project1</th>\n    </tr>\n  </thead>\n  <tbody>\n    <tr>\n      <th>0</th>\n      <td>1</td>\n      <td>5</td>\n      <td>4</td>\n      <td>0</td>\n      <td>0</td>\n      <td>0</td>\n      <td>0</td>\n      <td>0</td>\n      <td>0</td>\n      <td>0</td>\n      <td>...</td>\n      <td>0</td>\n      <td>0</td>\n      <td>0</td>\n      <td>0</td>\n      <td>0</td>\n      <td>0</td>\n      <td>0</td>\n      <td>0</td>\n      <td>0</td>\n      <td>1</td>\n    </tr>\n    <tr>\n      <th>1</th>\n      <td>2</td>\n      <td>5</td>\n      <td>4</td>\n      <td>0</td>\n      <td>0</td>\n      <td>0</td>\n      <td>0</td>\n      <td>0</td>\n      <td>0</td>\n      <td>0</td>\n      <td>...</td>\n      <td>0</td>\n      <td>0</td>\n      <td>0</td>\n      <td>0</td>\n      <td>0</td>\n      <td>0</td>\n      <td>0</td>\n      <td>0</td>\n      <td>0</td>\n      <td>1</td>\n    </tr>\n    <tr>\n      <th>2</th>\n      <td>3</td>\n      <td>5</td>\n      <td>4</td>\n      <td>0</td>\n      <td>0</td>\n      <td>0</td>\n      <td>0</td>\n      <td>0</td>\n      <td>0</td>\n      <td>0</td>\n      <td>...</td>\n      <td>0</td>\n      <td>0</td>\n      <td>0</td>\n      <td>0</td>\n      <td>0</td>\n      <td>0</td>\n      <td>0</td>\n      <td>0</td>\n      <td>0</td>\n      <td>1</td>\n    </tr>\n    <tr>\n      <th>3</th>\n      <td>4</td>\n      <td>5</td>\n      <td>4</td>\n      <td>0</td>\n      <td>0</td>\n      <td>0</td>\n      <td>0</td>\n      <td>0</td>\n      <td>0</td>\n      <td>0</td>\n      <td>...</td>\n      <td>0</td>\n      <td>0</td>\n      <td>0</td>\n      <td>0</td>\n      <td>0</td>\n      <td>0</td>\n      <td>0</td>\n      <td>0</td>\n      <td>0</td>\n      <td>1</td>\n    </tr>\n    <tr>\n      <th>4</th>\n      <td>5</td>\n      <td>5</td>\n      <td>4</td>\n      <td>0</td>\n      <td>0</td>\n      <td>0</td>\n      <td>0</td>\n      <td>0</td>\n      <td>0</td>\n      <td>0</td>\n      <td>...</td>\n      <td>0</td>\n      <td>0</td>\n      <td>0</td>\n      <td>0</td>\n      <td>0</td>\n      <td>0</td>\n      <td>0</td>\n      <td>0</td>\n      <td>0</td>\n      <td>1</td>\n    </tr>\n    <tr>\n      <th>...</th>\n      <td>...</td>\n      <td>...</td>\n      <td>...</td>\n      <td>...</td>\n      <td>...</td>\n      <td>...</td>\n      <td>...</td>\n      <td>...</td>\n      <td>...</td>\n      <td>...</td>\n      <td>...</td>\n      <td>...</td>\n      <td>...</td>\n      <td>...</td>\n      <td>...</td>\n      <td>...</td>\n      <td>...</td>\n      <td>...</td>\n      <td>...</td>\n      <td>...</td>\n      <td>...</td>\n    </tr>\n    <tr>\n      <th>1681</th>\n      <td>9</td>\n      <td>20</td>\n      <td>3</td>\n      <td>0</td>\n      <td>0</td>\n      <td>0</td>\n      <td>0</td>\n      <td>0</td>\n      <td>0</td>\n      <td>0</td>\n      <td>...</td>\n      <td>0</td>\n      <td>0</td>\n      <td>0</td>\n      <td>0</td>\n      <td>0</td>\n      <td>0</td>\n      <td>0</td>\n      <td>0</td>\n      <td>1</td>\n      <td>0</td>\n    </tr>\n    <tr>\n      <th>1682</th>\n      <td>6</td>\n      <td>20</td>\n      <td>3</td>\n      <td>0</td>\n      <td>1</td>\n      <td>0</td>\n      <td>0</td>\n      <td>0</td>\n      <td>0</td>\n      <td>0</td>\n      <td>...</td>\n      <td>0</td>\n      <td>0</td>\n      <td>0</td>\n      <td>0</td>\n      <td>0</td>\n      <td>0</td>\n      <td>0</td>\n      <td>0</td>\n      <td>1</td>\n      <td>0</td>\n    </tr>\n    <tr>\n      <th>1683</th>\n      <td>7</td>\n      <td>20</td>\n      <td>3</td>\n      <td>0</td>\n      <td>1</td>\n      <td>0</td>\n      <td>0</td>\n      <td>0</td>\n      <td>0</td>\n      <td>0</td>\n      <td>...</td>\n      <td>0</td>\n      <td>0</td>\n      <td>0</td>\n      <td>0</td>\n      <td>0</td>\n      <td>0</td>\n      <td>0</td>\n      <td>0</td>\n      <td>1</td>\n      <td>0</td>\n    </tr>\n    <tr>\n      <th>1684</th>\n      <td>8</td>\n      <td>20</td>\n      <td>3</td>\n      <td>0</td>\n      <td>1</td>\n      <td>0</td>\n      <td>0</td>\n      <td>0</td>\n      <td>0</td>\n      <td>0</td>\n      <td>...</td>\n      <td>0</td>\n      <td>0</td>\n      <td>0</td>\n      <td>0</td>\n      <td>0</td>\n      <td>0</td>\n      <td>0</td>\n      <td>0</td>\n      <td>1</td>\n      <td>0</td>\n    </tr>\n    <tr>\n      <th>1685</th>\n      <td>9</td>\n      <td>20</td>\n      <td>3</td>\n      <td>0</td>\n      <td>1</td>\n      <td>0</td>\n      <td>0</td>\n      <td>0</td>\n      <td>0</td>\n      <td>0</td>\n      <td>...</td>\n      <td>0</td>\n      <td>0</td>\n      <td>0</td>\n      <td>0</td>\n      <td>0</td>\n      <td>0</td>\n      <td>0</td>\n      <td>0</td>\n      <td>1</td>\n      <td>0</td>\n    </tr>\n  </tbody>\n</table>\n<p>1686 rows × 44 columns</p>\n</div>"
     },
     "execution_count": 2,
     "metadata": {},
     "output_type": "execute_result"
    }
   ],
   "source": [
    "df = pd.read_csv('../data/day-of-week-not-scaled.csv')\n",
    "df"
   ]
  },
  {
   "cell_type": "code",
   "execution_count": 3,
   "metadata": {
    "id": "D5f4G8reyUqB"
   },
   "outputs": [],
   "source": [
    "X_train, X_test, y_train, y_test = train_test_split(\n",
    "    df.drop('dayofweek', axis=1), df['dayofweek'],\n",
    "    test_size=0.2, random_state=21, stratify=df['dayofweek']\n",
    "    )"
   ]
  },
  {
   "cell_type": "markdown",
   "metadata": {
    "id": "Qx6PXWY3yUqB"
   },
   "source": [
    "## 2. SVM gridsearch"
   ]
  },
  {
   "cell_type": "markdown",
   "metadata": {
    "id": "Z6zo8cHCyUqB"
   },
   "source": [
    "1. Using `GridSearchCV` try different parameters of kernel (`linear`, `rbf`, `sigmoid`), C (`0.01`, `0.1`, `1`, `1.5`, `5`, `10`), gamma (`scale`, `auto`), class_weight (`balanced`, `None`) use `random_state=21` and `probability=True` and get the best combination of them in terms of accuracy.\n",
    "2. Create a dataframe from the results of the gridsearch and sort it ascendingly by the `rank_test_score`. Check if there is a huge difference between different combinations (sometimes a simpler model may give a comparable result)."
   ]
  },
  {
   "cell_type": "code",
   "execution_count": 4,
   "metadata": {
    "id": "dBiuP78ayUqB"
   },
   "outputs": [],
   "source": [
    "svc = SVC(probability=True, random_state=21)"
   ]
  },
  {
   "cell_type": "code",
   "execution_count": 5,
   "metadata": {
    "id": "4NL1AfU0yUqC"
   },
   "outputs": [
    {
     "data": {
      "text/plain": "GridSearchCV(estimator=SVC(probability=True, random_state=21), n_jobs=-1,\n             param_grid={'C': [0.01, 0.1, 1, 1.5, 5, 10],\n                         'class_weight': ['balanced', None],\n                         'gamma': ['scale', 'auto'],\n                         'kernel': ['linear', 'rbf', 'sigmoid']},\n             scoring='accuracy')",
      "text/html": "<style>#sk-container-id-1 {color: black;background-color: white;}#sk-container-id-1 pre{padding: 0;}#sk-container-id-1 div.sk-toggleable {background-color: white;}#sk-container-id-1 label.sk-toggleable__label {cursor: pointer;display: block;width: 100%;margin-bottom: 0;padding: 0.3em;box-sizing: border-box;text-align: center;}#sk-container-id-1 label.sk-toggleable__label-arrow:before {content: \"▸\";float: left;margin-right: 0.25em;color: #696969;}#sk-container-id-1 label.sk-toggleable__label-arrow:hover:before {color: black;}#sk-container-id-1 div.sk-estimator:hover label.sk-toggleable__label-arrow:before {color: black;}#sk-container-id-1 div.sk-toggleable__content {max-height: 0;max-width: 0;overflow: hidden;text-align: left;background-color: #f0f8ff;}#sk-container-id-1 div.sk-toggleable__content pre {margin: 0.2em;color: black;border-radius: 0.25em;background-color: #f0f8ff;}#sk-container-id-1 input.sk-toggleable__control:checked~div.sk-toggleable__content {max-height: 200px;max-width: 100%;overflow: auto;}#sk-container-id-1 input.sk-toggleable__control:checked~label.sk-toggleable__label-arrow:before {content: \"▾\";}#sk-container-id-1 div.sk-estimator input.sk-toggleable__control:checked~label.sk-toggleable__label {background-color: #d4ebff;}#sk-container-id-1 div.sk-label input.sk-toggleable__control:checked~label.sk-toggleable__label {background-color: #d4ebff;}#sk-container-id-1 input.sk-hidden--visually {border: 0;clip: rect(1px 1px 1px 1px);clip: rect(1px, 1px, 1px, 1px);height: 1px;margin: -1px;overflow: hidden;padding: 0;position: absolute;width: 1px;}#sk-container-id-1 div.sk-estimator {font-family: monospace;background-color: #f0f8ff;border: 1px dotted black;border-radius: 0.25em;box-sizing: border-box;margin-bottom: 0.5em;}#sk-container-id-1 div.sk-estimator:hover {background-color: #d4ebff;}#sk-container-id-1 div.sk-parallel-item::after {content: \"\";width: 100%;border-bottom: 1px solid gray;flex-grow: 1;}#sk-container-id-1 div.sk-label:hover label.sk-toggleable__label {background-color: #d4ebff;}#sk-container-id-1 div.sk-serial::before {content: \"\";position: absolute;border-left: 1px solid gray;box-sizing: border-box;top: 0;bottom: 0;left: 50%;z-index: 0;}#sk-container-id-1 div.sk-serial {display: flex;flex-direction: column;align-items: center;background-color: white;padding-right: 0.2em;padding-left: 0.2em;position: relative;}#sk-container-id-1 div.sk-item {position: relative;z-index: 1;}#sk-container-id-1 div.sk-parallel {display: flex;align-items: stretch;justify-content: center;background-color: white;position: relative;}#sk-container-id-1 div.sk-item::before, #sk-container-id-1 div.sk-parallel-item::before {content: \"\";position: absolute;border-left: 1px solid gray;box-sizing: border-box;top: 0;bottom: 0;left: 50%;z-index: -1;}#sk-container-id-1 div.sk-parallel-item {display: flex;flex-direction: column;z-index: 1;position: relative;background-color: white;}#sk-container-id-1 div.sk-parallel-item:first-child::after {align-self: flex-end;width: 50%;}#sk-container-id-1 div.sk-parallel-item:last-child::after {align-self: flex-start;width: 50%;}#sk-container-id-1 div.sk-parallel-item:only-child::after {width: 0;}#sk-container-id-1 div.sk-dashed-wrapped {border: 1px dashed gray;margin: 0 0.4em 0.5em 0.4em;box-sizing: border-box;padding-bottom: 0.4em;background-color: white;}#sk-container-id-1 div.sk-label label {font-family: monospace;font-weight: bold;display: inline-block;line-height: 1.2em;}#sk-container-id-1 div.sk-label-container {text-align: center;}#sk-container-id-1 div.sk-container {/* jupyter's `normalize.less` sets `[hidden] { display: none; }` but bootstrap.min.css set `[hidden] { display: none !important; }` so we also need the `!important` here to be able to override the default hidden behavior on the sphinx rendered scikit-learn.org. See: https://github.com/scikit-learn/scikit-learn/issues/21755 */display: inline-block !important;position: relative;}#sk-container-id-1 div.sk-text-repr-fallback {display: none;}</style><div id=\"sk-container-id-1\" class=\"sk-top-container\"><div class=\"sk-text-repr-fallback\"><pre>GridSearchCV(estimator=SVC(probability=True, random_state=21), n_jobs=-1,\n             param_grid={&#x27;C&#x27;: [0.01, 0.1, 1, 1.5, 5, 10],\n                         &#x27;class_weight&#x27;: [&#x27;balanced&#x27;, None],\n                         &#x27;gamma&#x27;: [&#x27;scale&#x27;, &#x27;auto&#x27;],\n                         &#x27;kernel&#x27;: [&#x27;linear&#x27;, &#x27;rbf&#x27;, &#x27;sigmoid&#x27;]},\n             scoring=&#x27;accuracy&#x27;)</pre><b>In a Jupyter environment, please rerun this cell to show the HTML representation or trust the notebook. <br />On GitHub, the HTML representation is unable to render, please try loading this page with nbviewer.org.</b></div><div class=\"sk-container\" hidden><div class=\"sk-item sk-dashed-wrapped\"><div class=\"sk-label-container\"><div class=\"sk-label sk-toggleable\"><input class=\"sk-toggleable__control sk-hidden--visually\" id=\"sk-estimator-id-1\" type=\"checkbox\" ><label for=\"sk-estimator-id-1\" class=\"sk-toggleable__label sk-toggleable__label-arrow\">GridSearchCV</label><div class=\"sk-toggleable__content\"><pre>GridSearchCV(estimator=SVC(probability=True, random_state=21), n_jobs=-1,\n             param_grid={&#x27;C&#x27;: [0.01, 0.1, 1, 1.5, 5, 10],\n                         &#x27;class_weight&#x27;: [&#x27;balanced&#x27;, None],\n                         &#x27;gamma&#x27;: [&#x27;scale&#x27;, &#x27;auto&#x27;],\n                         &#x27;kernel&#x27;: [&#x27;linear&#x27;, &#x27;rbf&#x27;, &#x27;sigmoid&#x27;]},\n             scoring=&#x27;accuracy&#x27;)</pre></div></div></div><div class=\"sk-parallel\"><div class=\"sk-parallel-item\"><div class=\"sk-item\"><div class=\"sk-label-container\"><div class=\"sk-label sk-toggleable\"><input class=\"sk-toggleable__control sk-hidden--visually\" id=\"sk-estimator-id-2\" type=\"checkbox\" ><label for=\"sk-estimator-id-2\" class=\"sk-toggleable__label sk-toggleable__label-arrow\">estimator: SVC</label><div class=\"sk-toggleable__content\"><pre>SVC(probability=True, random_state=21)</pre></div></div></div><div class=\"sk-serial\"><div class=\"sk-item\"><div class=\"sk-estimator sk-toggleable\"><input class=\"sk-toggleable__control sk-hidden--visually\" id=\"sk-estimator-id-3\" type=\"checkbox\" ><label for=\"sk-estimator-id-3\" class=\"sk-toggleable__label sk-toggleable__label-arrow\">SVC</label><div class=\"sk-toggleable__content\"><pre>SVC(probability=True, random_state=21)</pre></div></div></div></div></div></div></div></div></div></div>"
     },
     "execution_count": 5,
     "metadata": {},
     "output_type": "execute_result"
    }
   ],
   "source": [
    "param_grid = {'C': [0.01, 0.1, 1, 1.5, 5, 10],\n",
    "              'kernel': ['linear', 'rbf', 'sigmoid'],\n",
    "              'gamma': ['scale', 'auto'],\n",
    "              'class_weight': ['balanced', None]\n",
    "              }\n",
    "\n",
    "gs = GridSearchCV(svc, param_grid, scoring='accuracy', n_jobs=-1)\n",
    "gs.fit(X_train, y_train)"
   ]
  },
  {
   "cell_type": "code",
   "execution_count": 6,
   "metadata": {
    "id": "GoMznS9wyUqC"
   },
   "outputs": [
    {
     "data": {
      "text/plain": "{'C': 10, 'class_weight': None, 'gamma': 'auto', 'kernel': 'rbf'}"
     },
     "execution_count": 6,
     "metadata": {},
     "output_type": "execute_result"
    }
   ],
   "source": [
    "gs.best_params_"
   ]
  },
  {
   "cell_type": "code",
   "execution_count": 7,
   "metadata": {
    "id": "oaeHHckFyUqC"
   },
   "outputs": [
    {
     "data": {
      "text/plain": "0.8761090458488228"
     },
     "execution_count": 7,
     "metadata": {},
     "output_type": "execute_result"
    }
   ],
   "source": [
    "gs.best_score_"
   ]
  },
  {
   "cell_type": "code",
   "execution_count": 8,
   "metadata": {
    "id": "Z_CDXonkyUqC"
   },
   "outputs": [],
   "source": [
    "results = pd.DataFrame(gs.cv_results_)\n",
    "results = results.sort_values('rank_test_score', ascending=True)"
   ]
  },
  {
   "cell_type": "code",
   "execution_count": 9,
   "metadata": {
    "id": "R4AwI3cbyUqC"
   },
   "outputs": [
    {
     "data": {
      "text/plain": "    mean_fit_time  std_fit_time  mean_score_time  std_score_time param_C  \\\n70       0.637366      0.108804         0.044040        0.006955      10   \n64       0.644250      0.137805         0.044498        0.005981      10   \n58       0.511823      0.003568         0.045145        0.000683       5   \n52       0.530682      0.005896         0.045440        0.001219       5   \n63      33.885558      3.177648         0.009451        0.000233      10   \n60      32.928458      3.052654         0.009489        0.000265      10   \n66      28.041223      4.236369         0.009719        0.000536      10   \n\n   param_class_weight param_gamma param_kernel  \\\n70               None        auto          rbf   \n64           balanced        auto          rbf   \n58               None        auto          rbf   \n52           balanced        auto          rbf   \n63           balanced        auto       linear   \n60           balanced       scale       linear   \n66               None       scale       linear   \n\n                                               params  split0_test_score  \\\n70  {'C': 10, 'class_weight': None, 'gamma': 'auto...           0.900000   \n64  {'C': 10, 'class_weight': 'balanced', 'gamma':...           0.877778   \n58  {'C': 5, 'class_weight': None, 'gamma': 'auto'...           0.825926   \n52  {'C': 5, 'class_weight': 'balanced', 'gamma': ...           0.844444   \n63  {'C': 10, 'class_weight': 'balanced', 'gamma':...           0.729630   \n60  {'C': 10, 'class_weight': 'balanced', 'gamma':...           0.729630   \n66  {'C': 10, 'class_weight': None, 'gamma': 'scal...           0.737037   \n\n    split1_test_score  split2_test_score  split3_test_score  \\\n70           0.848148           0.885185           0.884758   \n64           0.851852           0.862963           0.873606   \n58           0.811111           0.818519           0.821561   \n52           0.785185           0.792593           0.817844   \n63           0.700000           0.755556           0.754647   \n60           0.700000           0.755556           0.754647   \n66           0.711111           0.707407           0.743494   \n\n    split4_test_score  mean_test_score  std_test_score  rank_test_score  \n70           0.862454         0.876109        0.018419                1  \n64           0.851301         0.863500        0.010870                2  \n58           0.802974         0.816018        0.008116                3  \n52           0.802974         0.808608        0.021007                4  \n63           0.665428         0.721052        0.034438                5  \n60           0.665428         0.721052        0.034438                5  \n66           0.698885         0.719587        0.017463                7  ",
      "text/html": "<div>\n<style scoped>\n    .dataframe tbody tr th:only-of-type {\n        vertical-align: middle;\n    }\n\n    .dataframe tbody tr th {\n        vertical-align: top;\n    }\n\n    .dataframe thead th {\n        text-align: right;\n    }\n</style>\n<table border=\"1\" class=\"dataframe\">\n  <thead>\n    <tr style=\"text-align: right;\">\n      <th></th>\n      <th>mean_fit_time</th>\n      <th>std_fit_time</th>\n      <th>mean_score_time</th>\n      <th>std_score_time</th>\n      <th>param_C</th>\n      <th>param_class_weight</th>\n      <th>param_gamma</th>\n      <th>param_kernel</th>\n      <th>params</th>\n      <th>split0_test_score</th>\n      <th>split1_test_score</th>\n      <th>split2_test_score</th>\n      <th>split3_test_score</th>\n      <th>split4_test_score</th>\n      <th>mean_test_score</th>\n      <th>std_test_score</th>\n      <th>rank_test_score</th>\n    </tr>\n  </thead>\n  <tbody>\n    <tr>\n      <th>70</th>\n      <td>0.637366</td>\n      <td>0.108804</td>\n      <td>0.044040</td>\n      <td>0.006955</td>\n      <td>10</td>\n      <td>None</td>\n      <td>auto</td>\n      <td>rbf</td>\n      <td>{'C': 10, 'class_weight': None, 'gamma': 'auto...</td>\n      <td>0.900000</td>\n      <td>0.848148</td>\n      <td>0.885185</td>\n      <td>0.884758</td>\n      <td>0.862454</td>\n      <td>0.876109</td>\n      <td>0.018419</td>\n      <td>1</td>\n    </tr>\n    <tr>\n      <th>64</th>\n      <td>0.644250</td>\n      <td>0.137805</td>\n      <td>0.044498</td>\n      <td>0.005981</td>\n      <td>10</td>\n      <td>balanced</td>\n      <td>auto</td>\n      <td>rbf</td>\n      <td>{'C': 10, 'class_weight': 'balanced', 'gamma':...</td>\n      <td>0.877778</td>\n      <td>0.851852</td>\n      <td>0.862963</td>\n      <td>0.873606</td>\n      <td>0.851301</td>\n      <td>0.863500</td>\n      <td>0.010870</td>\n      <td>2</td>\n    </tr>\n    <tr>\n      <th>58</th>\n      <td>0.511823</td>\n      <td>0.003568</td>\n      <td>0.045145</td>\n      <td>0.000683</td>\n      <td>5</td>\n      <td>None</td>\n      <td>auto</td>\n      <td>rbf</td>\n      <td>{'C': 5, 'class_weight': None, 'gamma': 'auto'...</td>\n      <td>0.825926</td>\n      <td>0.811111</td>\n      <td>0.818519</td>\n      <td>0.821561</td>\n      <td>0.802974</td>\n      <td>0.816018</td>\n      <td>0.008116</td>\n      <td>3</td>\n    </tr>\n    <tr>\n      <th>52</th>\n      <td>0.530682</td>\n      <td>0.005896</td>\n      <td>0.045440</td>\n      <td>0.001219</td>\n      <td>5</td>\n      <td>balanced</td>\n      <td>auto</td>\n      <td>rbf</td>\n      <td>{'C': 5, 'class_weight': 'balanced', 'gamma': ...</td>\n      <td>0.844444</td>\n      <td>0.785185</td>\n      <td>0.792593</td>\n      <td>0.817844</td>\n      <td>0.802974</td>\n      <td>0.808608</td>\n      <td>0.021007</td>\n      <td>4</td>\n    </tr>\n    <tr>\n      <th>63</th>\n      <td>33.885558</td>\n      <td>3.177648</td>\n      <td>0.009451</td>\n      <td>0.000233</td>\n      <td>10</td>\n      <td>balanced</td>\n      <td>auto</td>\n      <td>linear</td>\n      <td>{'C': 10, 'class_weight': 'balanced', 'gamma':...</td>\n      <td>0.729630</td>\n      <td>0.700000</td>\n      <td>0.755556</td>\n      <td>0.754647</td>\n      <td>0.665428</td>\n      <td>0.721052</td>\n      <td>0.034438</td>\n      <td>5</td>\n    </tr>\n    <tr>\n      <th>60</th>\n      <td>32.928458</td>\n      <td>3.052654</td>\n      <td>0.009489</td>\n      <td>0.000265</td>\n      <td>10</td>\n      <td>balanced</td>\n      <td>scale</td>\n      <td>linear</td>\n      <td>{'C': 10, 'class_weight': 'balanced', 'gamma':...</td>\n      <td>0.729630</td>\n      <td>0.700000</td>\n      <td>0.755556</td>\n      <td>0.754647</td>\n      <td>0.665428</td>\n      <td>0.721052</td>\n      <td>0.034438</td>\n      <td>5</td>\n    </tr>\n    <tr>\n      <th>66</th>\n      <td>28.041223</td>\n      <td>4.236369</td>\n      <td>0.009719</td>\n      <td>0.000536</td>\n      <td>10</td>\n      <td>None</td>\n      <td>scale</td>\n      <td>linear</td>\n      <td>{'C': 10, 'class_weight': None, 'gamma': 'scal...</td>\n      <td>0.737037</td>\n      <td>0.711111</td>\n      <td>0.707407</td>\n      <td>0.743494</td>\n      <td>0.698885</td>\n      <td>0.719587</td>\n      <td>0.017463</td>\n      <td>7</td>\n    </tr>\n  </tbody>\n</table>\n</div>"
     },
     "execution_count": 9,
     "metadata": {},
     "output_type": "execute_result"
    }
   ],
   "source": [
    "results.head(7)"
   ]
  },
  {
   "cell_type": "markdown",
   "metadata": {
    "id": "a3w4FpldyUqC"
   },
   "source": [
    "## 3. Decision tree"
   ]
  },
  {
   "cell_type": "markdown",
   "metadata": {
    "id": "ELqxX9sXyUqD"
   },
   "source": [
    "1. Using `GridSearchCV` try different parameters of `max_depth` (from `1` to `49`), `class_weight` (`balanced`, `None`) and `criterion` (`entropy` and `gini`) and get the best combination of them in terms of accuracy. Use `random_state=21`.\n",
    "2. Create a dataframe from the results of the gridsearch and sort it ascendingly by the `rank_test_score`, check if there is a huge difference between different combinations (sometimes a simpler model may give a comparable result)."
   ]
  },
  {
   "cell_type": "code",
   "execution_count": 10,
   "metadata": {
    "id": "Q6YmUeUqyUqD"
   },
   "outputs": [],
   "source": [
    "tree = DecisionTreeClassifier(random_state=21)"
   ]
  },
  {
   "cell_type": "code",
   "execution_count": 11,
   "metadata": {
    "id": "aF9K-bBGyUqD"
   },
   "outputs": [
    {
     "data": {
      "text/plain": "GridSearchCV(estimator=DecisionTreeClassifier(random_state=21), n_jobs=-1,\n             param_grid={'class_weight': ['balanced', None],\n                         'criterion': ['gini', 'entropy'],\n                         'max_depth': array([ 1,  2,  3,  4,  5,  6,  7,  8,  9, 10, 11, 12, 13, 14, 15, 16, 17,\n       18, 19, 20, 21, 22, 23, 24, 25, 26, 27, 28, 29, 30, 31, 32, 33, 34,\n       35, 36, 37, 38, 39, 40, 41, 42, 43, 44, 45, 46, 47, 48, 49])},\n             scoring='accuracy')",
      "text/html": "<style>#sk-container-id-2 {color: black;background-color: white;}#sk-container-id-2 pre{padding: 0;}#sk-container-id-2 div.sk-toggleable {background-color: white;}#sk-container-id-2 label.sk-toggleable__label {cursor: pointer;display: block;width: 100%;margin-bottom: 0;padding: 0.3em;box-sizing: border-box;text-align: center;}#sk-container-id-2 label.sk-toggleable__label-arrow:before {content: \"▸\";float: left;margin-right: 0.25em;color: #696969;}#sk-container-id-2 label.sk-toggleable__label-arrow:hover:before {color: black;}#sk-container-id-2 div.sk-estimator:hover label.sk-toggleable__label-arrow:before {color: black;}#sk-container-id-2 div.sk-toggleable__content {max-height: 0;max-width: 0;overflow: hidden;text-align: left;background-color: #f0f8ff;}#sk-container-id-2 div.sk-toggleable__content pre {margin: 0.2em;color: black;border-radius: 0.25em;background-color: #f0f8ff;}#sk-container-id-2 input.sk-toggleable__control:checked~div.sk-toggleable__content {max-height: 200px;max-width: 100%;overflow: auto;}#sk-container-id-2 input.sk-toggleable__control:checked~label.sk-toggleable__label-arrow:before {content: \"▾\";}#sk-container-id-2 div.sk-estimator input.sk-toggleable__control:checked~label.sk-toggleable__label {background-color: #d4ebff;}#sk-container-id-2 div.sk-label input.sk-toggleable__control:checked~label.sk-toggleable__label {background-color: #d4ebff;}#sk-container-id-2 input.sk-hidden--visually {border: 0;clip: rect(1px 1px 1px 1px);clip: rect(1px, 1px, 1px, 1px);height: 1px;margin: -1px;overflow: hidden;padding: 0;position: absolute;width: 1px;}#sk-container-id-2 div.sk-estimator {font-family: monospace;background-color: #f0f8ff;border: 1px dotted black;border-radius: 0.25em;box-sizing: border-box;margin-bottom: 0.5em;}#sk-container-id-2 div.sk-estimator:hover {background-color: #d4ebff;}#sk-container-id-2 div.sk-parallel-item::after {content: \"\";width: 100%;border-bottom: 1px solid gray;flex-grow: 1;}#sk-container-id-2 div.sk-label:hover label.sk-toggleable__label {background-color: #d4ebff;}#sk-container-id-2 div.sk-serial::before {content: \"\";position: absolute;border-left: 1px solid gray;box-sizing: border-box;top: 0;bottom: 0;left: 50%;z-index: 0;}#sk-container-id-2 div.sk-serial {display: flex;flex-direction: column;align-items: center;background-color: white;padding-right: 0.2em;padding-left: 0.2em;position: relative;}#sk-container-id-2 div.sk-item {position: relative;z-index: 1;}#sk-container-id-2 div.sk-parallel {display: flex;align-items: stretch;justify-content: center;background-color: white;position: relative;}#sk-container-id-2 div.sk-item::before, #sk-container-id-2 div.sk-parallel-item::before {content: \"\";position: absolute;border-left: 1px solid gray;box-sizing: border-box;top: 0;bottom: 0;left: 50%;z-index: -1;}#sk-container-id-2 div.sk-parallel-item {display: flex;flex-direction: column;z-index: 1;position: relative;background-color: white;}#sk-container-id-2 div.sk-parallel-item:first-child::after {align-self: flex-end;width: 50%;}#sk-container-id-2 div.sk-parallel-item:last-child::after {align-self: flex-start;width: 50%;}#sk-container-id-2 div.sk-parallel-item:only-child::after {width: 0;}#sk-container-id-2 div.sk-dashed-wrapped {border: 1px dashed gray;margin: 0 0.4em 0.5em 0.4em;box-sizing: border-box;padding-bottom: 0.4em;background-color: white;}#sk-container-id-2 div.sk-label label {font-family: monospace;font-weight: bold;display: inline-block;line-height: 1.2em;}#sk-container-id-2 div.sk-label-container {text-align: center;}#sk-container-id-2 div.sk-container {/* jupyter's `normalize.less` sets `[hidden] { display: none; }` but bootstrap.min.css set `[hidden] { display: none !important; }` so we also need the `!important` here to be able to override the default hidden behavior on the sphinx rendered scikit-learn.org. See: https://github.com/scikit-learn/scikit-learn/issues/21755 */display: inline-block !important;position: relative;}#sk-container-id-2 div.sk-text-repr-fallback {display: none;}</style><div id=\"sk-container-id-2\" class=\"sk-top-container\"><div class=\"sk-text-repr-fallback\"><pre>GridSearchCV(estimator=DecisionTreeClassifier(random_state=21), n_jobs=-1,\n             param_grid={&#x27;class_weight&#x27;: [&#x27;balanced&#x27;, None],\n                         &#x27;criterion&#x27;: [&#x27;gini&#x27;, &#x27;entropy&#x27;],\n                         &#x27;max_depth&#x27;: array([ 1,  2,  3,  4,  5,  6,  7,  8,  9, 10, 11, 12, 13, 14, 15, 16, 17,\n       18, 19, 20, 21, 22, 23, 24, 25, 26, 27, 28, 29, 30, 31, 32, 33, 34,\n       35, 36, 37, 38, 39, 40, 41, 42, 43, 44, 45, 46, 47, 48, 49])},\n             scoring=&#x27;accuracy&#x27;)</pre><b>In a Jupyter environment, please rerun this cell to show the HTML representation or trust the notebook. <br />On GitHub, the HTML representation is unable to render, please try loading this page with nbviewer.org.</b></div><div class=\"sk-container\" hidden><div class=\"sk-item sk-dashed-wrapped\"><div class=\"sk-label-container\"><div class=\"sk-label sk-toggleable\"><input class=\"sk-toggleable__control sk-hidden--visually\" id=\"sk-estimator-id-4\" type=\"checkbox\" ><label for=\"sk-estimator-id-4\" class=\"sk-toggleable__label sk-toggleable__label-arrow\">GridSearchCV</label><div class=\"sk-toggleable__content\"><pre>GridSearchCV(estimator=DecisionTreeClassifier(random_state=21), n_jobs=-1,\n             param_grid={&#x27;class_weight&#x27;: [&#x27;balanced&#x27;, None],\n                         &#x27;criterion&#x27;: [&#x27;gini&#x27;, &#x27;entropy&#x27;],\n                         &#x27;max_depth&#x27;: array([ 1,  2,  3,  4,  5,  6,  7,  8,  9, 10, 11, 12, 13, 14, 15, 16, 17,\n       18, 19, 20, 21, 22, 23, 24, 25, 26, 27, 28, 29, 30, 31, 32, 33, 34,\n       35, 36, 37, 38, 39, 40, 41, 42, 43, 44, 45, 46, 47, 48, 49])},\n             scoring=&#x27;accuracy&#x27;)</pre></div></div></div><div class=\"sk-parallel\"><div class=\"sk-parallel-item\"><div class=\"sk-item\"><div class=\"sk-label-container\"><div class=\"sk-label sk-toggleable\"><input class=\"sk-toggleable__control sk-hidden--visually\" id=\"sk-estimator-id-5\" type=\"checkbox\" ><label for=\"sk-estimator-id-5\" class=\"sk-toggleable__label sk-toggleable__label-arrow\">estimator: DecisionTreeClassifier</label><div class=\"sk-toggleable__content\"><pre>DecisionTreeClassifier(random_state=21)</pre></div></div></div><div class=\"sk-serial\"><div class=\"sk-item\"><div class=\"sk-estimator sk-toggleable\"><input class=\"sk-toggleable__control sk-hidden--visually\" id=\"sk-estimator-id-6\" type=\"checkbox\" ><label for=\"sk-estimator-id-6\" class=\"sk-toggleable__label sk-toggleable__label-arrow\">DecisionTreeClassifier</label><div class=\"sk-toggleable__content\"><pre>DecisionTreeClassifier(random_state=21)</pre></div></div></div></div></div></div></div></div></div></div>"
     },
     "execution_count": 11,
     "metadata": {},
     "output_type": "execute_result"
    }
   ],
   "source": [
    "param_grid = {'criterion': ['gini','entropy'],\n",
    "              'max_depth': np.arange(1, 50),\n",
    "              'class_weight': ['balanced', None]\n",
    "            }\n",
    "\n",
    "gs = GridSearchCV(tree, param_grid, scoring='accuracy', n_jobs=-1)\n",
    "gs.fit(X_train, y_train)"
   ]
  },
  {
   "cell_type": "code",
   "execution_count": 12,
   "metadata": {
    "id": "7barDuTYyUqD"
   },
   "outputs": [
    {
     "data": {
      "text/plain": "{'class_weight': 'balanced', 'criterion': 'gini', 'max_depth': 22}"
     },
     "execution_count": 12,
     "metadata": {},
     "output_type": "execute_result"
    }
   ],
   "source": [
    "gs.best_params_"
   ]
  },
  {
   "cell_type": "code",
   "execution_count": 13,
   "metadata": {
    "id": "Txy-LhV5yUqD"
   },
   "outputs": [
    {
     "data": {
      "text/plain": "0.8731212997384002"
     },
     "execution_count": 13,
     "metadata": {},
     "output_type": "execute_result"
    }
   ],
   "source": [
    "gs.best_score_"
   ]
  },
  {
   "cell_type": "code",
   "execution_count": 14,
   "metadata": {
    "id": "IKBNKOqfyUqD"
   },
   "outputs": [],
   "source": [
    "results = pd.DataFrame(gs.cv_results_)\n",
    "results = results.sort_values('rank_test_score', ascending=True)"
   ]
  },
  {
   "cell_type": "code",
   "execution_count": 15,
   "metadata": {
    "id": "CHac1Ml0yUqE"
   },
   "outputs": [
    {
     "data": {
      "text/plain": "     mean_fit_time  std_fit_time  mean_score_time  std_score_time  \\\n21        0.005724      0.001480         0.001624        0.000304   \n20        0.004604      0.000238         0.001657        0.000569   \n29        0.004973      0.000776         0.001403        0.000071   \n32        0.009529      0.009666         0.001383        0.000094   \n28        0.004564      0.000233         0.001578        0.000265   \n..             ...           ...              ...             ...   \n2         0.003305      0.000106         0.001438        0.000080   \n98        0.002316      0.000140         0.001330        0.000210   \n147       0.002495      0.000212         0.001569        0.000479   \n49        0.011073      0.015058         0.012996        0.017186   \n0         0.007504      0.000058         0.007647        0.000014   \n\n    param_class_weight param_criterion param_max_depth  \\\n21            balanced            gini              22   \n20            balanced            gini              21   \n29            balanced            gini              30   \n32            balanced            gini              33   \n28            balanced            gini              29   \n..                 ...             ...             ...   \n2             balanced            gini               3   \n98                None            gini               1   \n147               None         entropy               1   \n49            balanced         entropy               1   \n0             balanced            gini               1   \n\n                                                params  split0_test_score  \\\n21   {'class_weight': 'balanced', 'criterion': 'gin...           0.885185   \n20   {'class_weight': 'balanced', 'criterion': 'gin...           0.888889   \n29   {'class_weight': 'balanced', 'criterion': 'gin...           0.888889   \n32   {'class_weight': 'balanced', 'criterion': 'gin...           0.888889   \n28   {'class_weight': 'balanced', 'criterion': 'gin...           0.888889   \n..                                                 ...                ...   \n2    {'class_weight': 'balanced', 'criterion': 'gin...           0.388889   \n98   {'class_weight': None, 'criterion': 'gini', 'm...           0.370370   \n147  {'class_weight': None, 'criterion': 'entropy',...           0.370370   \n49   {'class_weight': 'balanced', 'criterion': 'ent...           0.262963   \n0    {'class_weight': 'balanced', 'criterion': 'gin...           0.262963   \n\n     split1_test_score  split2_test_score  split3_test_score  \\\n21            0.862963           0.903704           0.881041   \n20            0.859259           0.903704           0.884758   \n29            0.866667           0.903704           0.873606   \n32            0.866667           0.903704           0.873606   \n28            0.866667           0.903704           0.873606   \n..                 ...                ...                ...   \n2             0.303704           0.403704           0.427509   \n98            0.351852           0.359259           0.353160   \n147           0.351852           0.359259           0.353160   \n49            0.318519           0.266667           0.323420   \n0             0.318519           0.266667           0.323420   \n\n     split4_test_score  mean_test_score  std_test_score  rank_test_score  \n21            0.832714         0.873121        0.023998                1  \n20            0.828996         0.873121        0.026300                2  \n29            0.832714         0.873116        0.023911                3  \n32            0.832714         0.873116        0.023911                3  \n28            0.832714         0.873116        0.023911                3  \n..                 ...              ...             ...              ...  \n2             0.345725         0.373906        0.044064              192  \n98            0.342007         0.355330        0.009338              193  \n147           0.342007         0.355330        0.009338              193  \n49            0.260223         0.286358        0.028376              195  \n0             0.260223         0.286358        0.028376              195  \n\n[196 rows x 16 columns]",
      "text/html": "<div>\n<style scoped>\n    .dataframe tbody tr th:only-of-type {\n        vertical-align: middle;\n    }\n\n    .dataframe tbody tr th {\n        vertical-align: top;\n    }\n\n    .dataframe thead th {\n        text-align: right;\n    }\n</style>\n<table border=\"1\" class=\"dataframe\">\n  <thead>\n    <tr style=\"text-align: right;\">\n      <th></th>\n      <th>mean_fit_time</th>\n      <th>std_fit_time</th>\n      <th>mean_score_time</th>\n      <th>std_score_time</th>\n      <th>param_class_weight</th>\n      <th>param_criterion</th>\n      <th>param_max_depth</th>\n      <th>params</th>\n      <th>split0_test_score</th>\n      <th>split1_test_score</th>\n      <th>split2_test_score</th>\n      <th>split3_test_score</th>\n      <th>split4_test_score</th>\n      <th>mean_test_score</th>\n      <th>std_test_score</th>\n      <th>rank_test_score</th>\n    </tr>\n  </thead>\n  <tbody>\n    <tr>\n      <th>21</th>\n      <td>0.005724</td>\n      <td>0.001480</td>\n      <td>0.001624</td>\n      <td>0.000304</td>\n      <td>balanced</td>\n      <td>gini</td>\n      <td>22</td>\n      <td>{'class_weight': 'balanced', 'criterion': 'gin...</td>\n      <td>0.885185</td>\n      <td>0.862963</td>\n      <td>0.903704</td>\n      <td>0.881041</td>\n      <td>0.832714</td>\n      <td>0.873121</td>\n      <td>0.023998</td>\n      <td>1</td>\n    </tr>\n    <tr>\n      <th>20</th>\n      <td>0.004604</td>\n      <td>0.000238</td>\n      <td>0.001657</td>\n      <td>0.000569</td>\n      <td>balanced</td>\n      <td>gini</td>\n      <td>21</td>\n      <td>{'class_weight': 'balanced', 'criterion': 'gin...</td>\n      <td>0.888889</td>\n      <td>0.859259</td>\n      <td>0.903704</td>\n      <td>0.884758</td>\n      <td>0.828996</td>\n      <td>0.873121</td>\n      <td>0.026300</td>\n      <td>2</td>\n    </tr>\n    <tr>\n      <th>29</th>\n      <td>0.004973</td>\n      <td>0.000776</td>\n      <td>0.001403</td>\n      <td>0.000071</td>\n      <td>balanced</td>\n      <td>gini</td>\n      <td>30</td>\n      <td>{'class_weight': 'balanced', 'criterion': 'gin...</td>\n      <td>0.888889</td>\n      <td>0.866667</td>\n      <td>0.903704</td>\n      <td>0.873606</td>\n      <td>0.832714</td>\n      <td>0.873116</td>\n      <td>0.023911</td>\n      <td>3</td>\n    </tr>\n    <tr>\n      <th>32</th>\n      <td>0.009529</td>\n      <td>0.009666</td>\n      <td>0.001383</td>\n      <td>0.000094</td>\n      <td>balanced</td>\n      <td>gini</td>\n      <td>33</td>\n      <td>{'class_weight': 'balanced', 'criterion': 'gin...</td>\n      <td>0.888889</td>\n      <td>0.866667</td>\n      <td>0.903704</td>\n      <td>0.873606</td>\n      <td>0.832714</td>\n      <td>0.873116</td>\n      <td>0.023911</td>\n      <td>3</td>\n    </tr>\n    <tr>\n      <th>28</th>\n      <td>0.004564</td>\n      <td>0.000233</td>\n      <td>0.001578</td>\n      <td>0.000265</td>\n      <td>balanced</td>\n      <td>gini</td>\n      <td>29</td>\n      <td>{'class_weight': 'balanced', 'criterion': 'gin...</td>\n      <td>0.888889</td>\n      <td>0.866667</td>\n      <td>0.903704</td>\n      <td>0.873606</td>\n      <td>0.832714</td>\n      <td>0.873116</td>\n      <td>0.023911</td>\n      <td>3</td>\n    </tr>\n    <tr>\n      <th>...</th>\n      <td>...</td>\n      <td>...</td>\n      <td>...</td>\n      <td>...</td>\n      <td>...</td>\n      <td>...</td>\n      <td>...</td>\n      <td>...</td>\n      <td>...</td>\n      <td>...</td>\n      <td>...</td>\n      <td>...</td>\n      <td>...</td>\n      <td>...</td>\n      <td>...</td>\n      <td>...</td>\n    </tr>\n    <tr>\n      <th>2</th>\n      <td>0.003305</td>\n      <td>0.000106</td>\n      <td>0.001438</td>\n      <td>0.000080</td>\n      <td>balanced</td>\n      <td>gini</td>\n      <td>3</td>\n      <td>{'class_weight': 'balanced', 'criterion': 'gin...</td>\n      <td>0.388889</td>\n      <td>0.303704</td>\n      <td>0.403704</td>\n      <td>0.427509</td>\n      <td>0.345725</td>\n      <td>0.373906</td>\n      <td>0.044064</td>\n      <td>192</td>\n    </tr>\n    <tr>\n      <th>98</th>\n      <td>0.002316</td>\n      <td>0.000140</td>\n      <td>0.001330</td>\n      <td>0.000210</td>\n      <td>None</td>\n      <td>gini</td>\n      <td>1</td>\n      <td>{'class_weight': None, 'criterion': 'gini', 'm...</td>\n      <td>0.370370</td>\n      <td>0.351852</td>\n      <td>0.359259</td>\n      <td>0.353160</td>\n      <td>0.342007</td>\n      <td>0.355330</td>\n      <td>0.009338</td>\n      <td>193</td>\n    </tr>\n    <tr>\n      <th>147</th>\n      <td>0.002495</td>\n      <td>0.000212</td>\n      <td>0.001569</td>\n      <td>0.000479</td>\n      <td>None</td>\n      <td>entropy</td>\n      <td>1</td>\n      <td>{'class_weight': None, 'criterion': 'entropy',...</td>\n      <td>0.370370</td>\n      <td>0.351852</td>\n      <td>0.359259</td>\n      <td>0.353160</td>\n      <td>0.342007</td>\n      <td>0.355330</td>\n      <td>0.009338</td>\n      <td>193</td>\n    </tr>\n    <tr>\n      <th>49</th>\n      <td>0.011073</td>\n      <td>0.015058</td>\n      <td>0.012996</td>\n      <td>0.017186</td>\n      <td>balanced</td>\n      <td>entropy</td>\n      <td>1</td>\n      <td>{'class_weight': 'balanced', 'criterion': 'ent...</td>\n      <td>0.262963</td>\n      <td>0.318519</td>\n      <td>0.266667</td>\n      <td>0.323420</td>\n      <td>0.260223</td>\n      <td>0.286358</td>\n      <td>0.028376</td>\n      <td>195</td>\n    </tr>\n    <tr>\n      <th>0</th>\n      <td>0.007504</td>\n      <td>0.000058</td>\n      <td>0.007647</td>\n      <td>0.000014</td>\n      <td>balanced</td>\n      <td>gini</td>\n      <td>1</td>\n      <td>{'class_weight': 'balanced', 'criterion': 'gin...</td>\n      <td>0.262963</td>\n      <td>0.318519</td>\n      <td>0.266667</td>\n      <td>0.323420</td>\n      <td>0.260223</td>\n      <td>0.286358</td>\n      <td>0.028376</td>\n      <td>195</td>\n    </tr>\n  </tbody>\n</table>\n<p>196 rows × 16 columns</p>\n</div>"
     },
     "execution_count": 15,
     "metadata": {},
     "output_type": "execute_result"
    }
   ],
   "source": [
    "results"
   ]
  },
  {
   "cell_type": "markdown",
   "metadata": {
    "id": "dLFxJKtiyUqE"
   },
   "source": [
    "## 4. Random forest"
   ]
  },
  {
   "cell_type": "markdown",
   "metadata": {
    "id": "V6ADE7RuyUqE"
   },
   "source": [
    "1. Using `GridSearchCV` try different parameters of `n_estimators` (`5`, `10`, `50`, `100`), `max_depth` (from `1` to `49`), `class_weight` (`balanced`, `None`) and `criterion` (`entropy` and `gini`) and get the best combination of them in terms of accuracy. Use random_state=21.\n",
    "2. Create a dataframe from the results of the gridsearch and sort it ascendengly by the `rank_test_score`, check if there is a huge difference between different combinations (sometimes a simpler model may give a comparable result)."
   ]
  },
  {
   "cell_type": "code",
   "execution_count": 16,
   "metadata": {
    "id": "VOyEfEctyUqE"
   },
   "outputs": [],
   "source": [
    "frt = RandomForestClassifier(random_state=21)"
   ]
  },
  {
   "cell_type": "code",
   "execution_count": 17,
   "metadata": {
    "id": "otVWJ4CqyUqE"
   },
   "outputs": [
    {
     "data": {
      "text/plain": "GridSearchCV(estimator=RandomForestClassifier(random_state=21), n_jobs=-1,\n             param_grid={'class_weight': ['balanced', None],\n                         'criterion': ['gini', 'entropy'],\n                         'max_depth': array([ 1,  2,  3,  4,  5,  6,  7,  8,  9, 10, 11, 12, 13, 14, 15, 16, 17,\n       18, 19, 20, 21, 22, 23, 24, 25, 26, 27, 28, 29, 30, 31, 32, 33, 34,\n       35, 36, 37, 38, 39, 40, 41, 42, 43, 44, 45, 46, 47, 48, 49]),\n                         'n_estimators': [5, 10, 50, 100],\n                         'random_state': [21]},\n             scoring='accuracy')",
      "text/html": "<style>#sk-container-id-3 {color: black;background-color: white;}#sk-container-id-3 pre{padding: 0;}#sk-container-id-3 div.sk-toggleable {background-color: white;}#sk-container-id-3 label.sk-toggleable__label {cursor: pointer;display: block;width: 100%;margin-bottom: 0;padding: 0.3em;box-sizing: border-box;text-align: center;}#sk-container-id-3 label.sk-toggleable__label-arrow:before {content: \"▸\";float: left;margin-right: 0.25em;color: #696969;}#sk-container-id-3 label.sk-toggleable__label-arrow:hover:before {color: black;}#sk-container-id-3 div.sk-estimator:hover label.sk-toggleable__label-arrow:before {color: black;}#sk-container-id-3 div.sk-toggleable__content {max-height: 0;max-width: 0;overflow: hidden;text-align: left;background-color: #f0f8ff;}#sk-container-id-3 div.sk-toggleable__content pre {margin: 0.2em;color: black;border-radius: 0.25em;background-color: #f0f8ff;}#sk-container-id-3 input.sk-toggleable__control:checked~div.sk-toggleable__content {max-height: 200px;max-width: 100%;overflow: auto;}#sk-container-id-3 input.sk-toggleable__control:checked~label.sk-toggleable__label-arrow:before {content: \"▾\";}#sk-container-id-3 div.sk-estimator input.sk-toggleable__control:checked~label.sk-toggleable__label {background-color: #d4ebff;}#sk-container-id-3 div.sk-label input.sk-toggleable__control:checked~label.sk-toggleable__label {background-color: #d4ebff;}#sk-container-id-3 input.sk-hidden--visually {border: 0;clip: rect(1px 1px 1px 1px);clip: rect(1px, 1px, 1px, 1px);height: 1px;margin: -1px;overflow: hidden;padding: 0;position: absolute;width: 1px;}#sk-container-id-3 div.sk-estimator {font-family: monospace;background-color: #f0f8ff;border: 1px dotted black;border-radius: 0.25em;box-sizing: border-box;margin-bottom: 0.5em;}#sk-container-id-3 div.sk-estimator:hover {background-color: #d4ebff;}#sk-container-id-3 div.sk-parallel-item::after {content: \"\";width: 100%;border-bottom: 1px solid gray;flex-grow: 1;}#sk-container-id-3 div.sk-label:hover label.sk-toggleable__label {background-color: #d4ebff;}#sk-container-id-3 div.sk-serial::before {content: \"\";position: absolute;border-left: 1px solid gray;box-sizing: border-box;top: 0;bottom: 0;left: 50%;z-index: 0;}#sk-container-id-3 div.sk-serial {display: flex;flex-direction: column;align-items: center;background-color: white;padding-right: 0.2em;padding-left: 0.2em;position: relative;}#sk-container-id-3 div.sk-item {position: relative;z-index: 1;}#sk-container-id-3 div.sk-parallel {display: flex;align-items: stretch;justify-content: center;background-color: white;position: relative;}#sk-container-id-3 div.sk-item::before, #sk-container-id-3 div.sk-parallel-item::before {content: \"\";position: absolute;border-left: 1px solid gray;box-sizing: border-box;top: 0;bottom: 0;left: 50%;z-index: -1;}#sk-container-id-3 div.sk-parallel-item {display: flex;flex-direction: column;z-index: 1;position: relative;background-color: white;}#sk-container-id-3 div.sk-parallel-item:first-child::after {align-self: flex-end;width: 50%;}#sk-container-id-3 div.sk-parallel-item:last-child::after {align-self: flex-start;width: 50%;}#sk-container-id-3 div.sk-parallel-item:only-child::after {width: 0;}#sk-container-id-3 div.sk-dashed-wrapped {border: 1px dashed gray;margin: 0 0.4em 0.5em 0.4em;box-sizing: border-box;padding-bottom: 0.4em;background-color: white;}#sk-container-id-3 div.sk-label label {font-family: monospace;font-weight: bold;display: inline-block;line-height: 1.2em;}#sk-container-id-3 div.sk-label-container {text-align: center;}#sk-container-id-3 div.sk-container {/* jupyter's `normalize.less` sets `[hidden] { display: none; }` but bootstrap.min.css set `[hidden] { display: none !important; }` so we also need the `!important` here to be able to override the default hidden behavior on the sphinx rendered scikit-learn.org. See: https://github.com/scikit-learn/scikit-learn/issues/21755 */display: inline-block !important;position: relative;}#sk-container-id-3 div.sk-text-repr-fallback {display: none;}</style><div id=\"sk-container-id-3\" class=\"sk-top-container\"><div class=\"sk-text-repr-fallback\"><pre>GridSearchCV(estimator=RandomForestClassifier(random_state=21), n_jobs=-1,\n             param_grid={&#x27;class_weight&#x27;: [&#x27;balanced&#x27;, None],\n                         &#x27;criterion&#x27;: [&#x27;gini&#x27;, &#x27;entropy&#x27;],\n                         &#x27;max_depth&#x27;: array([ 1,  2,  3,  4,  5,  6,  7,  8,  9, 10, 11, 12, 13, 14, 15, 16, 17,\n       18, 19, 20, 21, 22, 23, 24, 25, 26, 27, 28, 29, 30, 31, 32, 33, 34,\n       35, 36, 37, 38, 39, 40, 41, 42, 43, 44, 45, 46, 47, 48, 49]),\n                         &#x27;n_estimators&#x27;: [5, 10, 50, 100],\n                         &#x27;random_state&#x27;: [21]},\n             scoring=&#x27;accuracy&#x27;)</pre><b>In a Jupyter environment, please rerun this cell to show the HTML representation or trust the notebook. <br />On GitHub, the HTML representation is unable to render, please try loading this page with nbviewer.org.</b></div><div class=\"sk-container\" hidden><div class=\"sk-item sk-dashed-wrapped\"><div class=\"sk-label-container\"><div class=\"sk-label sk-toggleable\"><input class=\"sk-toggleable__control sk-hidden--visually\" id=\"sk-estimator-id-7\" type=\"checkbox\" ><label for=\"sk-estimator-id-7\" class=\"sk-toggleable__label sk-toggleable__label-arrow\">GridSearchCV</label><div class=\"sk-toggleable__content\"><pre>GridSearchCV(estimator=RandomForestClassifier(random_state=21), n_jobs=-1,\n             param_grid={&#x27;class_weight&#x27;: [&#x27;balanced&#x27;, None],\n                         &#x27;criterion&#x27;: [&#x27;gini&#x27;, &#x27;entropy&#x27;],\n                         &#x27;max_depth&#x27;: array([ 1,  2,  3,  4,  5,  6,  7,  8,  9, 10, 11, 12, 13, 14, 15, 16, 17,\n       18, 19, 20, 21, 22, 23, 24, 25, 26, 27, 28, 29, 30, 31, 32, 33, 34,\n       35, 36, 37, 38, 39, 40, 41, 42, 43, 44, 45, 46, 47, 48, 49]),\n                         &#x27;n_estimators&#x27;: [5, 10, 50, 100],\n                         &#x27;random_state&#x27;: [21]},\n             scoring=&#x27;accuracy&#x27;)</pre></div></div></div><div class=\"sk-parallel\"><div class=\"sk-parallel-item\"><div class=\"sk-item\"><div class=\"sk-label-container\"><div class=\"sk-label sk-toggleable\"><input class=\"sk-toggleable__control sk-hidden--visually\" id=\"sk-estimator-id-8\" type=\"checkbox\" ><label for=\"sk-estimator-id-8\" class=\"sk-toggleable__label sk-toggleable__label-arrow\">estimator: RandomForestClassifier</label><div class=\"sk-toggleable__content\"><pre>RandomForestClassifier(random_state=21)</pre></div></div></div><div class=\"sk-serial\"><div class=\"sk-item\"><div class=\"sk-estimator sk-toggleable\"><input class=\"sk-toggleable__control sk-hidden--visually\" id=\"sk-estimator-id-9\" type=\"checkbox\" ><label for=\"sk-estimator-id-9\" class=\"sk-toggleable__label sk-toggleable__label-arrow\">RandomForestClassifier</label><div class=\"sk-toggleable__content\"><pre>RandomForestClassifier(random_state=21)</pre></div></div></div></div></div></div></div></div></div></div>"
     },
     "execution_count": 17,
     "metadata": {},
     "output_type": "execute_result"
    }
   ],
   "source": [
    "param_grid = {'n_estimators': [5, 10, 50, 100],\n",
    "              'criterion': ['gini','entropy'],\n",
    "              'max_depth': np.arange(1, 50),\n",
    "              'class_weight': ['balanced', None],\n",
    "              'random_state': [21]}\n",
    "\n",
    "gs = GridSearchCV(frt, param_grid, scoring='accuracy', n_jobs=-1)\n",
    "gs.fit(X_train, y_train)"
   ]
  },
  {
   "cell_type": "code",
   "execution_count": 18,
   "metadata": {
    "id": "y8CPm8gTyUqE"
   },
   "outputs": [
    {
     "data": {
      "text/plain": "{'class_weight': None,\n 'criterion': 'gini',\n 'max_depth': 28,\n 'n_estimators': 50,\n 'random_state': 21}"
     },
     "execution_count": 18,
     "metadata": {},
     "output_type": "execute_result"
    }
   ],
   "source": [
    "gs.best_params_"
   ]
  },
  {
   "cell_type": "code",
   "execution_count": 19,
   "metadata": {
    "id": "YuU50GSQyUqF"
   },
   "outputs": [
    {
     "data": {
      "text/plain": "0.9042902381935839"
     },
     "execution_count": 19,
     "metadata": {},
     "output_type": "execute_result"
    }
   ],
   "source": [
    "gs.best_score_"
   ]
  },
  {
   "cell_type": "code",
   "execution_count": 20,
   "metadata": {
    "id": "KkrTpWNoyUqF"
   },
   "outputs": [],
   "source": [
    "results = pd.DataFrame(gs.cv_results_)\n",
    "results = results.sort_values('rank_test_score', ascending=True)"
   ]
  },
  {
   "cell_type": "code",
   "execution_count": 21,
   "metadata": {
    "id": "Wi2t0DNqyUqF"
   },
   "outputs": [
    {
     "data": {
      "text/plain": "     mean_fit_time  std_fit_time  mean_score_time  std_score_time  \\\n502       0.083041      0.004927         0.007702        0.000885   \n515       0.162326      0.003456         0.013464        0.000572   \n118       0.077319      0.001272         0.007542        0.000684   \n134       0.078322      0.000416         0.007110        0.000182   \n587       0.171080      0.007786         0.014228        0.002118   \n..             ...           ...              ...             ...   \n588       0.007523      0.000172         0.002158        0.000193   \n200       0.008077      0.000625         0.003998        0.001507   \n4         0.009705      0.001395         0.003864        0.002696   \n0         0.008907      0.001394         0.002884        0.001240   \n196       0.011592      0.003551         0.002421        0.000809   \n\n    param_class_weight param_criterion param_max_depth param_n_estimators  \\\n502               None            gini              28                 50   \n515               None            gini              31                100   \n118           balanced            gini              30                 50   \n134           balanced            gini              34                 50   \n587               None            gini              49                100   \n..                 ...             ...             ...                ...   \n588               None         entropy               1                  5   \n200           balanced         entropy               2                  5   \n4             balanced            gini               2                  5   \n0             balanced            gini               1                  5   \n196           balanced         entropy               1                  5   \n\n    param_random_state                                             params  \\\n502                 21  {'class_weight': None, 'criterion': 'gini', 'm...   \n515                 21  {'class_weight': None, 'criterion': 'gini', 'm...   \n118                 21  {'class_weight': 'balanced', 'criterion': 'gin...   \n134                 21  {'class_weight': 'balanced', 'criterion': 'gin...   \n587                 21  {'class_weight': None, 'criterion': 'gini', 'm...   \n..                 ...                                                ...   \n588                 21  {'class_weight': None, 'criterion': 'entropy',...   \n200                 21  {'class_weight': 'balanced', 'criterion': 'ent...   \n4                   21  {'class_weight': 'balanced', 'criterion': 'gin...   \n0                   21  {'class_weight': 'balanced', 'criterion': 'gin...   \n196                 21  {'class_weight': 'balanced', 'criterion': 'ent...   \n\n     split0_test_score  split1_test_score  split2_test_score  \\\n502           0.922222           0.900000           0.907407   \n515           0.918519           0.911111           0.900000   \n118           0.922222           0.907407           0.881481   \n134           0.922222           0.907407           0.892593   \n587           0.914815           0.911111           0.900000   \n..                 ...                ...                ...   \n588           0.355556           0.366667           0.374074   \n200           0.318519           0.366667           0.381481   \n4             0.311111           0.377778           0.377778   \n0             0.262963           0.292593           0.285185   \n196           0.262963           0.292593           0.225926   \n\n     split3_test_score  split4_test_score  mean_test_score  std_test_score  \\\n502           0.903346           0.888476         0.904290        0.010961   \n515           0.910781           0.877323         0.903547        0.014380   \n118           0.907063           0.895911         0.902817        0.013554   \n134           0.907063           0.884758         0.902809        0.013010   \n587           0.903346           0.884758         0.902806        0.010460   \n..                 ...                ...              ...             ...   \n588           0.345725           0.327138         0.353832        0.016467   \n200           0.353160           0.345725         0.353110        0.021165   \n4             0.353160           0.312268         0.346419        0.029749   \n0             0.282528           0.293680         0.283390        0.011062   \n196           0.282528           0.289963         0.270794        0.024718   \n\n     rank_test_score  \n502                1  \n515                2  \n118                3  \n134                4  \n587                5  \n..               ...  \n588              780  \n200              781  \n4                782  \n0                783  \n196              784  \n\n[784 rows x 18 columns]",
      "text/html": "<div>\n<style scoped>\n    .dataframe tbody tr th:only-of-type {\n        vertical-align: middle;\n    }\n\n    .dataframe tbody tr th {\n        vertical-align: top;\n    }\n\n    .dataframe thead th {\n        text-align: right;\n    }\n</style>\n<table border=\"1\" class=\"dataframe\">\n  <thead>\n    <tr style=\"text-align: right;\">\n      <th></th>\n      <th>mean_fit_time</th>\n      <th>std_fit_time</th>\n      <th>mean_score_time</th>\n      <th>std_score_time</th>\n      <th>param_class_weight</th>\n      <th>param_criterion</th>\n      <th>param_max_depth</th>\n      <th>param_n_estimators</th>\n      <th>param_random_state</th>\n      <th>params</th>\n      <th>split0_test_score</th>\n      <th>split1_test_score</th>\n      <th>split2_test_score</th>\n      <th>split3_test_score</th>\n      <th>split4_test_score</th>\n      <th>mean_test_score</th>\n      <th>std_test_score</th>\n      <th>rank_test_score</th>\n    </tr>\n  </thead>\n  <tbody>\n    <tr>\n      <th>502</th>\n      <td>0.083041</td>\n      <td>0.004927</td>\n      <td>0.007702</td>\n      <td>0.000885</td>\n      <td>None</td>\n      <td>gini</td>\n      <td>28</td>\n      <td>50</td>\n      <td>21</td>\n      <td>{'class_weight': None, 'criterion': 'gini', 'm...</td>\n      <td>0.922222</td>\n      <td>0.900000</td>\n      <td>0.907407</td>\n      <td>0.903346</td>\n      <td>0.888476</td>\n      <td>0.904290</td>\n      <td>0.010961</td>\n      <td>1</td>\n    </tr>\n    <tr>\n      <th>515</th>\n      <td>0.162326</td>\n      <td>0.003456</td>\n      <td>0.013464</td>\n      <td>0.000572</td>\n      <td>None</td>\n      <td>gini</td>\n      <td>31</td>\n      <td>100</td>\n      <td>21</td>\n      <td>{'class_weight': None, 'criterion': 'gini', 'm...</td>\n      <td>0.918519</td>\n      <td>0.911111</td>\n      <td>0.900000</td>\n      <td>0.910781</td>\n      <td>0.877323</td>\n      <td>0.903547</td>\n      <td>0.014380</td>\n      <td>2</td>\n    </tr>\n    <tr>\n      <th>118</th>\n      <td>0.077319</td>\n      <td>0.001272</td>\n      <td>0.007542</td>\n      <td>0.000684</td>\n      <td>balanced</td>\n      <td>gini</td>\n      <td>30</td>\n      <td>50</td>\n      <td>21</td>\n      <td>{'class_weight': 'balanced', 'criterion': 'gin...</td>\n      <td>0.922222</td>\n      <td>0.907407</td>\n      <td>0.881481</td>\n      <td>0.907063</td>\n      <td>0.895911</td>\n      <td>0.902817</td>\n      <td>0.013554</td>\n      <td>3</td>\n    </tr>\n    <tr>\n      <th>134</th>\n      <td>0.078322</td>\n      <td>0.000416</td>\n      <td>0.007110</td>\n      <td>0.000182</td>\n      <td>balanced</td>\n      <td>gini</td>\n      <td>34</td>\n      <td>50</td>\n      <td>21</td>\n      <td>{'class_weight': 'balanced', 'criterion': 'gin...</td>\n      <td>0.922222</td>\n      <td>0.907407</td>\n      <td>0.892593</td>\n      <td>0.907063</td>\n      <td>0.884758</td>\n      <td>0.902809</td>\n      <td>0.013010</td>\n      <td>4</td>\n    </tr>\n    <tr>\n      <th>587</th>\n      <td>0.171080</td>\n      <td>0.007786</td>\n      <td>0.014228</td>\n      <td>0.002118</td>\n      <td>None</td>\n      <td>gini</td>\n      <td>49</td>\n      <td>100</td>\n      <td>21</td>\n      <td>{'class_weight': None, 'criterion': 'gini', 'm...</td>\n      <td>0.914815</td>\n      <td>0.911111</td>\n      <td>0.900000</td>\n      <td>0.903346</td>\n      <td>0.884758</td>\n      <td>0.902806</td>\n      <td>0.010460</td>\n      <td>5</td>\n    </tr>\n    <tr>\n      <th>...</th>\n      <td>...</td>\n      <td>...</td>\n      <td>...</td>\n      <td>...</td>\n      <td>...</td>\n      <td>...</td>\n      <td>...</td>\n      <td>...</td>\n      <td>...</td>\n      <td>...</td>\n      <td>...</td>\n      <td>...</td>\n      <td>...</td>\n      <td>...</td>\n      <td>...</td>\n      <td>...</td>\n      <td>...</td>\n      <td>...</td>\n    </tr>\n    <tr>\n      <th>588</th>\n      <td>0.007523</td>\n      <td>0.000172</td>\n      <td>0.002158</td>\n      <td>0.000193</td>\n      <td>None</td>\n      <td>entropy</td>\n      <td>1</td>\n      <td>5</td>\n      <td>21</td>\n      <td>{'class_weight': None, 'criterion': 'entropy',...</td>\n      <td>0.355556</td>\n      <td>0.366667</td>\n      <td>0.374074</td>\n      <td>0.345725</td>\n      <td>0.327138</td>\n      <td>0.353832</td>\n      <td>0.016467</td>\n      <td>780</td>\n    </tr>\n    <tr>\n      <th>200</th>\n      <td>0.008077</td>\n      <td>0.000625</td>\n      <td>0.003998</td>\n      <td>0.001507</td>\n      <td>balanced</td>\n      <td>entropy</td>\n      <td>2</td>\n      <td>5</td>\n      <td>21</td>\n      <td>{'class_weight': 'balanced', 'criterion': 'ent...</td>\n      <td>0.318519</td>\n      <td>0.366667</td>\n      <td>0.381481</td>\n      <td>0.353160</td>\n      <td>0.345725</td>\n      <td>0.353110</td>\n      <td>0.021165</td>\n      <td>781</td>\n    </tr>\n    <tr>\n      <th>4</th>\n      <td>0.009705</td>\n      <td>0.001395</td>\n      <td>0.003864</td>\n      <td>0.002696</td>\n      <td>balanced</td>\n      <td>gini</td>\n      <td>2</td>\n      <td>5</td>\n      <td>21</td>\n      <td>{'class_weight': 'balanced', 'criterion': 'gin...</td>\n      <td>0.311111</td>\n      <td>0.377778</td>\n      <td>0.377778</td>\n      <td>0.353160</td>\n      <td>0.312268</td>\n      <td>0.346419</td>\n      <td>0.029749</td>\n      <td>782</td>\n    </tr>\n    <tr>\n      <th>0</th>\n      <td>0.008907</td>\n      <td>0.001394</td>\n      <td>0.002884</td>\n      <td>0.001240</td>\n      <td>balanced</td>\n      <td>gini</td>\n      <td>1</td>\n      <td>5</td>\n      <td>21</td>\n      <td>{'class_weight': 'balanced', 'criterion': 'gin...</td>\n      <td>0.262963</td>\n      <td>0.292593</td>\n      <td>0.285185</td>\n      <td>0.282528</td>\n      <td>0.293680</td>\n      <td>0.283390</td>\n      <td>0.011062</td>\n      <td>783</td>\n    </tr>\n    <tr>\n      <th>196</th>\n      <td>0.011592</td>\n      <td>0.003551</td>\n      <td>0.002421</td>\n      <td>0.000809</td>\n      <td>balanced</td>\n      <td>entropy</td>\n      <td>1</td>\n      <td>5</td>\n      <td>21</td>\n      <td>{'class_weight': 'balanced', 'criterion': 'ent...</td>\n      <td>0.262963</td>\n      <td>0.292593</td>\n      <td>0.225926</td>\n      <td>0.282528</td>\n      <td>0.289963</td>\n      <td>0.270794</td>\n      <td>0.024718</td>\n      <td>784</td>\n    </tr>\n  </tbody>\n</table>\n<p>784 rows × 18 columns</p>\n</div>"
     },
     "execution_count": 21,
     "metadata": {},
     "output_type": "execute_result"
    }
   ],
   "source": [
    "results"
   ]
  },
  {
   "cell_type": "markdown",
   "metadata": {},
   "source": [
    "https://stackoverflow.com/questions/47279677/how-use-grid-search-with-fit-generator-in-keras"
   ]
  },
  {
   "cell_type": "markdown",
   "metadata": {
    "id": "WWa7ucWxyUqF"
   },
   "source": [
    "## 5. Progress bar"
   ]
  },
  {
   "cell_type": "markdown",
   "metadata": {
    "id": "u2Q8KPBiyUqF"
   },
   "source": [
    "Gridsearch can be a quite long process and you may find yourself wondering when it will end.\n",
    "1. Create a manual gridsearch for the same parameters values of random forest iterating through the list of the possible values and calculating `cross_val_score` for each combination. Try to increase `n_jobs`. The value `cv` for `cross_val_score` is 5.\n",
    "2. Track the progress using the library `tqdm.notebook`.\n",
    "3. Create a dataframe from the results of the gridsearch with the columns corresponding to the names of the parameters and `mean_accuracy` and `std_accuracy`.\n",
    "4. Sort it descendingly by the `mean_accuracy`, check if there is a huge difference between different combinations (sometimes a simpler model may give a comparable result)."
   ]
  },
  {
   "cell_type": "code",
   "execution_count": 22,
   "metadata": {
    "id": "a1x6AdqTyUqG"
   },
   "outputs": [],
   "source": [
    "grid = list(ParameterGrid(param_grid))"
   ]
  },
  {
   "cell_type": "code",
   "execution_count": 23,
   "metadata": {
    "id": "UCBvyIm-yUqG"
   },
   "outputs": [
    {
     "data": {
      "text/plain": "  0%|          | 0/784 [00:00<?, ?it/s]",
      "application/vnd.jupyter.widget-view+json": {
       "version_major": 2,
       "version_minor": 0,
       "model_id": "eb71117d13b1447db62344aa80e26e96"
      }
     },
     "metadata": {},
     "output_type": "display_data"
    }
   ],
   "source": [
    "data = []\n",
    "\n",
    "for params in tqdm(grid):\n",
    "    # print(params)\n",
    "    # print(1)\n",
    "    d = {}\n",
    "    estimator = RandomForestClassifier(**params)\n",
    "    sc = cross_val_score(estimator, X_train, y_train, cv=5, n_jobs=-1)\n",
    "    # print(sc)\n",
    "    d = {**params, 'mean_accuracy': np.mean(sc), 'std_accuracy': np.std(sc)}\n",
    "    data.append(d)"
   ]
  },
  {
   "cell_type": "code",
   "execution_count": 24,
   "metadata": {
    "id": "pXNzb1QnyUqG"
   },
   "outputs": [
    {
     "data": {
      "text/plain": "    class_weight criterion  max_depth  n_estimators  random_state  \\\n502         None      gini         28            50            21   \n515         None      gini         31           100            21   \n118     balanced      gini         30            50            21   \n134     balanced      gini         34            50            21   \n551         None      gini         40           100            21   \n..           ...       ...        ...           ...           ...   \n588         None   entropy          1             5            21   \n200     balanced   entropy          2             5            21   \n4       balanced      gini          2             5            21   \n0       balanced      gini          1             5            21   \n196     balanced   entropy          1             5            21   \n\n     mean_accuracy  std_accuracy  \n502       0.904290      0.010961  \n515       0.903547      0.014380  \n118       0.902817      0.013554  \n134       0.902809      0.013010  \n551       0.902806      0.010460  \n..             ...           ...  \n588       0.353832      0.016467  \n200       0.353110      0.021165  \n4         0.346419      0.029749  \n0         0.283390      0.011062  \n196       0.270794      0.024718  \n\n[784 rows x 7 columns]",
      "text/html": "<div>\n<style scoped>\n    .dataframe tbody tr th:only-of-type {\n        vertical-align: middle;\n    }\n\n    .dataframe tbody tr th {\n        vertical-align: top;\n    }\n\n    .dataframe thead th {\n        text-align: right;\n    }\n</style>\n<table border=\"1\" class=\"dataframe\">\n  <thead>\n    <tr style=\"text-align: right;\">\n      <th></th>\n      <th>class_weight</th>\n      <th>criterion</th>\n      <th>max_depth</th>\n      <th>n_estimators</th>\n      <th>random_state</th>\n      <th>mean_accuracy</th>\n      <th>std_accuracy</th>\n    </tr>\n  </thead>\n  <tbody>\n    <tr>\n      <th>502</th>\n      <td>None</td>\n      <td>gini</td>\n      <td>28</td>\n      <td>50</td>\n      <td>21</td>\n      <td>0.904290</td>\n      <td>0.010961</td>\n    </tr>\n    <tr>\n      <th>515</th>\n      <td>None</td>\n      <td>gini</td>\n      <td>31</td>\n      <td>100</td>\n      <td>21</td>\n      <td>0.903547</td>\n      <td>0.014380</td>\n    </tr>\n    <tr>\n      <th>118</th>\n      <td>balanced</td>\n      <td>gini</td>\n      <td>30</td>\n      <td>50</td>\n      <td>21</td>\n      <td>0.902817</td>\n      <td>0.013554</td>\n    </tr>\n    <tr>\n      <th>134</th>\n      <td>balanced</td>\n      <td>gini</td>\n      <td>34</td>\n      <td>50</td>\n      <td>21</td>\n      <td>0.902809</td>\n      <td>0.013010</td>\n    </tr>\n    <tr>\n      <th>551</th>\n      <td>None</td>\n      <td>gini</td>\n      <td>40</td>\n      <td>100</td>\n      <td>21</td>\n      <td>0.902806</td>\n      <td>0.010460</td>\n    </tr>\n    <tr>\n      <th>...</th>\n      <td>...</td>\n      <td>...</td>\n      <td>...</td>\n      <td>...</td>\n      <td>...</td>\n      <td>...</td>\n      <td>...</td>\n    </tr>\n    <tr>\n      <th>588</th>\n      <td>None</td>\n      <td>entropy</td>\n      <td>1</td>\n      <td>5</td>\n      <td>21</td>\n      <td>0.353832</td>\n      <td>0.016467</td>\n    </tr>\n    <tr>\n      <th>200</th>\n      <td>balanced</td>\n      <td>entropy</td>\n      <td>2</td>\n      <td>5</td>\n      <td>21</td>\n      <td>0.353110</td>\n      <td>0.021165</td>\n    </tr>\n    <tr>\n      <th>4</th>\n      <td>balanced</td>\n      <td>gini</td>\n      <td>2</td>\n      <td>5</td>\n      <td>21</td>\n      <td>0.346419</td>\n      <td>0.029749</td>\n    </tr>\n    <tr>\n      <th>0</th>\n      <td>balanced</td>\n      <td>gini</td>\n      <td>1</td>\n      <td>5</td>\n      <td>21</td>\n      <td>0.283390</td>\n      <td>0.011062</td>\n    </tr>\n    <tr>\n      <th>196</th>\n      <td>balanced</td>\n      <td>entropy</td>\n      <td>1</td>\n      <td>5</td>\n      <td>21</td>\n      <td>0.270794</td>\n      <td>0.024718</td>\n    </tr>\n  </tbody>\n</table>\n<p>784 rows × 7 columns</p>\n</div>"
     },
     "execution_count": 24,
     "metadata": {},
     "output_type": "execute_result"
    }
   ],
   "source": [
    "results_1 = pd.DataFrame(data)\n",
    "results_1 = results_1.sort_values('mean_accuracy', ascending=False)\n",
    "results_1"
   ]
  },
  {
   "cell_type": "markdown",
   "metadata": {
    "id": "SQMTOQynyUqG"
   },
   "source": [
    "## 6. Predictions"
   ]
  },
  {
   "cell_type": "markdown",
   "metadata": {
    "id": "FF5VVXbGyUqG"
   },
   "source": [
    "1. Choose the best model and use it to make predictions for the test dataset.\n",
    "2. Calculate the final accuracy."
   ]
  },
  {
   "cell_type": "code",
   "execution_count": 25,
   "metadata": {
    "id": "-vW7NVMOyUqG"
   },
   "outputs": [],
   "source": [
    "rfc = RandomForestClassifier(n_estimators=50, max_depth=28, criterion='gini', class_weight=None, random_state=21)\n",
    "rfc.fit(X_train, y_train)\n",
    "y_pred = rfc.predict(X_test)"
   ]
  },
  {
   "cell_type": "code",
   "execution_count": 26,
   "metadata": {
    "id": "qO--d7bmyUqG"
   },
   "outputs": [
    {
     "data": {
      "text/plain": "0.9289940828402367"
     },
     "execution_count": 26,
     "metadata": {},
     "output_type": "execute_result"
    }
   ],
   "source": [
    "accuracy_score(y_test, y_pred)"
   ]
  },
  {
   "cell_type": "code",
   "execution_count": null,
   "metadata": {},
   "outputs": [],
   "source": []
  }
 ],
 "metadata": {
  "colab": {
   "name": "01_gridsearch.ipynb",
   "provenance": []
  },
  "interpreter": {
   "hash": "aee8b7b246df8f9039afb4144a1f6fd8d2ca17a180786b69acc140d282b71a49"
  },
  "kernelspec": {
   "display_name": "Python 3.7.9 64-bit",
   "language": "python",
   "name": "python3"
  },
  "language_info": {
   "codemirror_mode": {
    "name": "ipython",
    "version": 3
   },
   "file_extension": ".py",
   "mimetype": "text/x-python",
   "name": "python",
   "nbconvert_exporter": "python",
   "pygments_lexer": "ipython3",
   "version": "3.7.9"
  }
 },
 "nbformat": 4,
 "nbformat_minor": 0
}