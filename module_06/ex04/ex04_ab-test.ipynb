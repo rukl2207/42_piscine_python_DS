{
 "cells": [
  {
   "cell_type": "markdown",
   "metadata": {
    "collapsed": false,
    "pycharm": {
     "name": "#%% md\n"
    }
   },
   "source": [
    "# Exercise 04 : A/B-testing"
   ]
  },
  {
   "cell_type": "code",
   "execution_count": 1,
   "metadata": {
    "collapsed": false,
    "pycharm": {
     "name": "#%%\n"
    }
   },
   "outputs": [],
   "source": [
    "import pandas as pd\n",
    "import sqlite3"
   ]
  },
  {
   "cell_type": "markdown",
   "metadata": {
    "collapsed": false,
    "pycharm": {
     "name": "#%% md\n"
    }
   },
   "source": [
    "## • create a connection to the database using the library sqlite3"
   ]
  },
  {
   "cell_type": "code",
   "execution_count": 2,
   "metadata": {
    "collapsed": false,
    "pycharm": {
     "name": "#%%\n"
    }
   },
   "outputs": [
    {
     "name": "stdout",
     "output_type": "stream",
     "text": [
      "Successfully connect to the database\n"
     ]
    }
   ],
   "source": [
    "try:\n",
    "    connection = sqlite3.connect('../data/checking-logs.sqlite.sqlite')\n",
    "    print(\"Successfully connect to the database\")\n",
    "except sqlite3.Error as error:\n",
    "    print(\"Error when connecting to the database\", error)"
   ]
  },
  {
   "cell_type": "markdown",
   "metadata": {
    "collapsed": false,
    "pycharm": {
     "name": "#%% md\n"
    }
   },
   "source": [
    "## • using only one query for each of the groups, create two dataframes: test_results and control_results with the columns time and avg_diﬀ and only two rows\n",
    "\n",
    "◦ time should have the values: after and before\n",
    "\n",
    "◦ avg_diﬀ contains the average delta among all the users for the time period before each of them made their first visit to the page and \n",
    "afterward\n",
    "\n",
    "◦ only take into account the users that have observations before and after\n",
    "\n",
    "## • we still are not using the lab ’project1’"
   ]
  },
  {
   "cell_type": "code",
   "execution_count": 3,
   "metadata": {
    "collapsed": false,
    "pycharm": {
     "name": "#%%\n"
    }
   },
   "outputs": [
    {
     "data": {
      "text/html": [
       "<div>\n",
       "<style scoped>\n",
       "    .dataframe tbody tr th:only-of-type {\n",
       "        vertical-align: middle;\n",
       "    }\n",
       "\n",
       "    .dataframe tbody tr th {\n",
       "        vertical-align: top;\n",
       "    }\n",
       "\n",
       "    .dataframe thead th {\n",
       "        text-align: right;\n",
       "    }\n",
       "</style>\n",
       "<table border=\"1\" class=\"dataframe\">\n",
       "  <thead>\n",
       "    <tr style=\"text-align: right;\">\n",
       "      <th></th>\n",
       "      <th>time</th>\n",
       "      <th>avg_diff</th>\n",
       "    </tr>\n",
       "  </thead>\n",
       "  <tbody>\n",
       "    <tr>\n",
       "      <th>0</th>\n",
       "      <td>after</td>\n",
       "      <td>-104.6000</td>\n",
       "    </tr>\n",
       "    <tr>\n",
       "      <th>1</th>\n",
       "      <td>before</td>\n",
       "      <td>-60.5625</td>\n",
       "    </tr>\n",
       "  </tbody>\n",
       "</table>\n",
       "</div>"
      ],
      "text/plain": [
       "     time  avg_diff\n",
       "0   after -104.6000\n",
       "1  before  -60.5625"
      ]
     },
     "execution_count": 3,
     "metadata": {},
     "output_type": "execute_result"
    }
   ],
   "source": [
    "query_test = \"\"\"\n",
    "--count average\n",
    "SELECT case when test.first_commit_ts < test.first_view_ts\n",
    "        THEN 'before' else 'after'\n",
    "        end as time,\n",
    "        AVG(CAST((julianday(test.first_commit_ts) -\n",
    "      \tjulianday(datetime(deadlines.deadlines, 'unixepoch')))\n",
    "     \t* 24 AS integer)) AS avg_diff\n",
    "FROM test\n",
    "JOIN deadlines ON test.labname=deadlines.labs\n",
    "WHERE labname<>'project1'\n",
    "--users with after AND before values\n",
    "AND uid in\n",
    "(SELECT uid from\n",
    " --before,after commit\n",
    "(SELECT test.uid,\n",
    "        case when test.first_commit_ts < test.first_view_ts\n",
    "        THEN 'before' else 'after'\n",
    "        end as time\n",
    "FROM test\n",
    "JOIN deadlines ON test.labname=deadlines.labs\n",
    "WHERE labname<>'project1')\n",
    "GROUP by uid\n",
    "HAVING COUNT(DISTINCT time)=2)\n",
    "GROUP by time\n",
    "\"\"\"\n",
    "test_results = pd.io.sql.read_sql(query_test, connection)\n",
    "test_results"
   ]
  },
  {
   "cell_type": "code",
   "execution_count": 4,
   "metadata": {
    "collapsed": false,
    "pycharm": {
     "name": "#%%\n"
    }
   },
   "outputs": [
    {
     "data": {
      "text/html": [
       "<div>\n",
       "<style scoped>\n",
       "    .dataframe tbody tr th:only-of-type {\n",
       "        vertical-align: middle;\n",
       "    }\n",
       "\n",
       "    .dataframe tbody tr th {\n",
       "        vertical-align: top;\n",
       "    }\n",
       "\n",
       "    .dataframe thead th {\n",
       "        text-align: right;\n",
       "    }\n",
       "</style>\n",
       "<table border=\"1\" class=\"dataframe\">\n",
       "  <thead>\n",
       "    <tr style=\"text-align: right;\">\n",
       "      <th></th>\n",
       "      <th>time</th>\n",
       "      <th>avg_diff</th>\n",
       "    </tr>\n",
       "  </thead>\n",
       "  <tbody>\n",
       "    <tr>\n",
       "      <th>0</th>\n",
       "      <td>after</td>\n",
       "      <td>-117.636364</td>\n",
       "    </tr>\n",
       "    <tr>\n",
       "      <th>1</th>\n",
       "      <td>before</td>\n",
       "      <td>-99.464286</td>\n",
       "    </tr>\n",
       "  </tbody>\n",
       "</table>\n",
       "</div>"
      ],
      "text/plain": [
       "     time    avg_diff\n",
       "0   after -117.636364\n",
       "1  before  -99.464286"
      ]
     },
     "execution_count": 4,
     "metadata": {},
     "output_type": "execute_result"
    }
   ],
   "source": [
    "query_control = \"\"\"\n",
    "--count average\n",
    "SELECT case when control.first_commit_ts < control.first_view_ts\n",
    "        THEN 'before' else 'after'\n",
    "        end as time,\n",
    "        AVG(CAST((julianday(control.first_commit_ts) -\n",
    "      \tjulianday(datetime(deadlines.deadlines, 'unixepoch')))\n",
    "     \t* 24 AS integer)) AS avg_diff\n",
    "FROM control\n",
    "JOIN deadlines ON control.labname=deadlines.labs\n",
    "WHERE labname<>'project1'\n",
    "--users with after AND before values\n",
    "AND uid in\n",
    "(SELECT uid from\n",
    " --before,after commit\n",
    "(SELECT control.uid,\n",
    "        case when control.first_commit_ts < control.first_view_ts\n",
    "        THEN 'before' else 'after'\n",
    "        end as time\n",
    "FROM control\n",
    "JOIN deadlines ON control.labname=deadlines.labs\n",
    "WHERE labname<>'project1')\n",
    "GROUP by uid\n",
    "HAVING COUNT(DISTINCT time)=2)\n",
    "GROUP by time\n",
    "\"\"\"\n",
    "control_results = pd.io.sql.read_sql(query_control, connection)\n",
    "control_results"
   ]
  },
  {
   "cell_type": "markdown",
   "metadata": {
    "collapsed": false,
    "pycharm": {
     "name": "#%% md\n"
    }
   },
   "source": [
    "## • close the connection"
   ]
  },
  {
   "cell_type": "code",
   "execution_count": 5,
   "metadata": {
    "collapsed": false,
    "pycharm": {
     "name": "#%%\n"
    }
   },
   "outputs": [],
   "source": [
    "connection.close()"
   ]
  },
  {
   "cell_type": "markdown",
   "metadata": {
    "collapsed": false,
    "pycharm": {
     "name": "#%% md\n"
    }
   },
   "source": [
    "## • have the answer: did the hypothesis turn out to be true and the page does aﬀect the students’ behavior?\n",
    "Answer: yes, because the differences in the test group are greater than in the control group"
   ]
  },
  {
   "cell_type": "markdown",
   "metadata": {
    "collapsed": false,
    "pycharm": {
     "name": "#%% md\n"
    }
   },
   "source": []
  }
 ],
 "metadata": {
  "interpreter": {
   "hash": "aee8b7b246df8f9039afb4144a1f6fd8d2ca17a180786b69acc140d282b71a49"
  },
  "kernelspec": {
   "display_name": "Python 3.7.9 64-bit",
   "language": "python",
   "name": "python3"
  },
  "language_info": {
   "codemirror_mode": {
    "name": "ipython",
    "version": 3
   },
   "file_extension": ".py",
   "mimetype": "text/x-python",
   "name": "python",
   "nbconvert_exporter": "python",
   "pygments_lexer": "ipython3",
   "version": "3.7.9"
  }
 },
 "nbformat": 4,
 "nbformat_minor": 0
}
